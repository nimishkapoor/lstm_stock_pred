{
 "cells": [
  {
   "cell_type": "markdown",
   "metadata": {
    "id": "_qTK4Ajv3qRz"
   },
   "source": [
    "In this Colab, we will use a keras Long Short-Term Memory (LSTM) model to predict the stock price of Tata Global Beverages\n"
   ]
  },
  {
   "cell_type": "markdown",
   "metadata": {
    "id": "rs-XEsB86weU"
   },
   "source": [
    "Here are some imports we need to make: numpy for scientific computation, matplotlib for graphing, and pandas for manipulating data."
   ]
  },
  {
   "cell_type": "code",
   "execution_count": 1,
   "metadata": {
    "id": "2SoQJk5BYOas"
   },
   "outputs": [],
   "source": [
    "import numpy as np\n",
    "import matplotlib.pyplot as plt\n",
    "import pandas as pd "
   ]
  },
  {
   "cell_type": "code",
   "execution_count": 2,
   "metadata": {},
   "outputs": [],
   "source": [
    "import yfinance as yf \n",
    "df = yf.download('SULA.NS', start='2018-05-25', end='2023-08-14')"
   ]
  },
  {
   "cell_type": "markdown",
   "metadata": {
    "id": "BD3hdApP7gNi"
   },
   "source": [
    "Load training data set with the \"Open\" and \"High\" columns to use in our modeling."
   ]
  },
  {
   "cell_type": "code",
   "execution_count": 3,
   "metadata": {},
   "outputs": [],
   "source": [
    "df.head()"
   ]
  },
  {
   "cell_type": "code",
   "execution_count": 4,
   "metadata": {
    "id": "VU6ve06iDV5Q"
   },
   "outputs": [],
   "source": [
    "#url = '/Users/nimishkapoor/Downloads/TCS.NS.csv'\n",
    "#dataset_train = pd.read_csv(url)\n",
    "dataset_train = df"
   ]
  },
  {
   "cell_type": "code",
   "execution_count": 5,
   "metadata": {},
   "outputs": [],
   "source": [
    "len(dataset_train)"
   ]
  },
  {
   "cell_type": "code",
   "execution_count": 6,
   "metadata": {
    "colab": {
     "base_uri": "https://localhost:8080/",
     "height": 204
    },
    "id": "C0q6aaq1v1g4",
    "outputId": "a743ec62-4aba-4f1d-a3a2-77580904757b"
   },
   "outputs": [],
   "source": [
    "dataset_train.head()"
   ]
  },
  {
   "cell_type": "code",
   "execution_count": 7,
   "metadata": {},
   "outputs": [],
   "source": [
    "dataset_train = dataset_train.dropna()"
   ]
  },
  {
   "cell_type": "code",
   "execution_count": 8,
   "metadata": {
    "colab": {
     "base_uri": "https://localhost:8080/",
     "height": 421
    },
    "id": "iDAT5m20v7cI",
    "outputId": "a1c7432c-9934-40ae-b1ba-19097478b29d"
   },
   "outputs": [],
   "source": [
    "dataset_train.tail(12)"
   ]
  },
  {
   "cell_type": "code",
   "execution_count": 9,
   "metadata": {
    "id": "RHPoEWmavaBT"
   },
   "outputs": [],
   "source": [
    "#dataset_train = dataset_train[-12:]"
   ]
  },
  {
   "cell_type": "code",
   "execution_count": 10,
   "metadata": {
    "colab": {
     "base_uri": "https://localhost:8080/",
     "height": 421
    },
    "id": "_dxLNdBawHr9",
    "outputId": "2b607b18-d520-4c3f-90ef-ff9a70fcc984"
   },
   "outputs": [],
   "source": [
    "dataset_train.head(20)"
   ]
  },
  {
   "cell_type": "code",
   "execution_count": 11,
   "metadata": {
    "id": "9LJaEWFUvaM_"
   },
   "outputs": [],
   "source": [
    "training_set = dataset_train.iloc[:, 1:2].values"
   ]
  },
  {
   "cell_type": "markdown",
   "metadata": {
    "id": "RsLbMJ1072EY"
   },
   "source": [
    "Let's take a look at the first five rows of our dataset"
   ]
  },
  {
   "cell_type": "code",
   "execution_count": 12,
   "metadata": {
    "colab": {
     "base_uri": "https://localhost:8080/",
     "height": 204
    },
    "id": "AqiQMcfCLh6K",
    "outputId": "6f91e06d-5e2d-451c-ef90-54b67f1a15fc"
   },
   "outputs": [],
   "source": [
    "dataset_train.tail()"
   ]
  },
  {
   "cell_type": "markdown",
   "metadata": {
    "id": "ii6nZaDI7-20"
   },
   "source": [
    "Import MinMaxScaler from scikit-learn to scale our dataset into numbers between 0 and 1 "
   ]
  },
  {
   "cell_type": "code",
   "execution_count": 13,
   "metadata": {
    "id": "Ub32hsA4MIXz"
   },
   "outputs": [],
   "source": [
    "from sklearn.preprocessing import MinMaxScaler\n",
    "sc = MinMaxScaler(feature_range=(0,1))\n",
    "training_set_scaled = sc.fit_transform(training_set)"
   ]
  },
  {
   "cell_type": "code",
   "execution_count": 14,
   "metadata": {
    "colab": {
     "base_uri": "https://localhost:8080/"
    },
    "id": "ELWGzyJ82jLW",
    "outputId": "6cc831eb-679e-4fe6-e83c-d2a1d71e34b7"
   },
   "outputs": [],
   "source": [
    "print(training_set_scaled)"
   ]
  },
  {
   "cell_type": "code",
   "execution_count": 15,
   "metadata": {},
   "outputs": [],
   "source": [
    "print(len(training_set_scaled))"
   ]
  },
  {
   "cell_type": "markdown",
   "metadata": {
    "id": "aqze-4Is8Rb_"
   },
   "source": [
    "We want our data to be in the form of a 3D array for our LSTM model. First, we create data in 60 timesteps and convert it into an array using NumPy. Then, we convert the data into a 3D array with X_train samples, 60 timestamps, and one feature at each step."
   ]
  },
  {
   "cell_type": "code",
   "execution_count": 16,
   "metadata": {
    "id": "qo7K06T2Mi_e"
   },
   "outputs": [],
   "source": [
    "X_train = []\n",
    "y_train = []\n",
    "for i in range(60, len(training_set_scaled)):\n",
    "    X_train.append(training_set_scaled[i-60:i, 0])\n",
    "    y_train.append(training_set_scaled[i, 0])\n",
    "X_train, y_train = np.array(X_train), np.array(y_train)\n",
    "\n",
    "X_train = np.reshape(X_train, (X_train.shape[0], X_train.shape[1], 1))"
   ]
  },
  {
   "cell_type": "code",
   "execution_count": 17,
   "metadata": {
    "colab": {
     "base_uri": "https://localhost:8080/"
    },
    "id": "NhmkSdIv2QSY",
    "outputId": "518dca39-bb0d-48dc-b760-627fbc6a4240"
   },
   "outputs": [],
   "source": [
    "print(X_train)"
   ]
  },
  {
   "cell_type": "code",
   "execution_count": 18,
   "metadata": {
    "id": "M3JKc9cW2UkV"
   },
   "outputs": [],
   "source": [
    "print(X_train.shape[1])"
   ]
  },
  {
   "cell_type": "code",
   "execution_count": 19,
   "metadata": {
    "colab": {
     "base_uri": "https://localhost:8080/"
    },
    "id": "7fJUao662Uue",
    "outputId": "05d607ea-7f6f-4a4b-ce7a-e81821c83a1b"
   },
   "outputs": [],
   "source": [
    "print(y_train)"
   ]
  },
  {
   "cell_type": "markdown",
   "metadata": {
    "id": "anIlTzKO-r74"
   },
   "source": [
    "Make the necessary imports from keras"
   ]
  },
  {
   "cell_type": "code",
   "execution_count": 20,
   "metadata": {
    "id": "TP9GVtb9Q-C9"
   },
   "outputs": [],
   "source": [
    "from keras.models import Sequential\n",
    "from keras.layers import LSTM\n",
    "from keras.layers import Dropout\n",
    "from keras.layers import Dense "
   ]
  },
  {
   "cell_type": "markdown",
   "metadata": {
    "id": "hJrFWnOd-x2t"
   },
   "source": [
    "Add LSTM layer along with dropout layers to prevent overfitting. After that, we add a Dense layer that specifies a one unit output. Next, we compile the model using the adam optimizer and set the loss as the mean_squarred_error"
   ]
  },
  {
   "cell_type": "code",
   "execution_count": 21,
   "metadata": {
    "colab": {
     "base_uri": "https://localhost:8080/"
    },
    "id": "CMKVOwBnRcOc",
    "outputId": "4bf4c9e5-3289-48d2-9eda-28596889cdf6"
   },
   "outputs": [],
   "source": [
    "model = Sequential()\n",
    "\n",
    "model.add(LSTM(units=50,return_sequences=True,input_shape=(X_train.shape[1], 1)))\n",
    "model.add(Dropout(0.2))\n",
    "\n",
    "model.add(LSTM(units=50,return_sequences=True))\n",
    "model.add(Dropout(0.2))\n",
    "\n",
    "model.add(LSTM(units=50,return_sequences=True))\n",
    "model.add(Dropout(0.2))\n",
    "\n",
    "model.add(LSTM(units=50))\n",
    "model.add(Dropout(0.2))\n",
    "\n",
    "model.add(Dense(units=1))\n",
    "\n",
    "model.compile(optimizer='adam',loss='mean_squared_error')\n",
    "\n",
    "model.fit(X_train,y_train,epochs=30,batch_size=32)"
   ]
  },
  {
   "cell_type": "markdown",
   "metadata": {
    "id": "N7_w_7x-A44v"
   },
   "source": [
    "Import the test set for the model to make predictions on "
   ]
  },
  {
   "cell_type": "code",
   "execution_count": 22,
   "metadata": {
    "id": "ns2TngWrUaz5"
   },
   "outputs": [],
   "source": [
    "#url = 'https://raw.githubusercontent.com/mwitiderrick/stockprice/master/tatatest.csv'\n",
    "#dataset_test = pd.read_csv(url)"
   ]
  },
  {
   "cell_type": "code",
   "execution_count": 23,
   "metadata": {
    "colab": {
     "base_uri": "https://localhost:8080/",
     "height": 204
    },
    "id": "PSL5HUlf2_Fq",
    "outputId": "f20fc719-5516-4c6b-ae8a-3742e25b4159"
   },
   "outputs": [],
   "source": [
    "#dataset_test.head()"
   ]
  },
  {
   "cell_type": "code",
   "execution_count": 24,
   "metadata": {
    "id": "LZCCxkT42rPy"
   },
   "outputs": [],
   "source": [
    "#dataset_test = dataset_test[:6]"
   ]
  },
  {
   "cell_type": "code",
   "execution_count": 25,
   "metadata": {
    "colab": {
     "base_uri": "https://localhost:8080/",
     "height": 235
    },
    "id": "7FT6nyAy3CyD",
    "outputId": "e24277e7-f872-4770-89f4-720a6d574f14"
   },
   "outputs": [],
   "source": [
    "#dataset_test.head(10)"
   ]
  },
  {
   "cell_type": "code",
   "execution_count": 26,
   "metadata": {
    "id": "6KOuc3m42rwF"
   },
   "outputs": [],
   "source": [
    "#real_stock_price = dataset_test.iloc[:, 1:2].values"
   ]
  },
  {
   "cell_type": "code",
   "execution_count": 27,
   "metadata": {
    "colab": {
     "base_uri": "https://localhost:8080/"
    },
    "id": "uWJM25tq4mOz",
    "outputId": "abc138f2-f574-4a0d-b0a0-43600d009d97"
   },
   "outputs": [],
   "source": [
    "#print(real_stock_price)"
   ]
  },
  {
   "cell_type": "code",
   "execution_count": 28,
   "metadata": {
    "id": "e4TaNwsX3PnI"
   },
   "outputs": [],
   "source": [
    "#dataset_total = pd.concat((dataset_train['Open'], dataset_test['Open']), axis = 0)"
   ]
  },
  {
   "cell_type": "code",
   "execution_count": 29,
   "metadata": {
    "colab": {
     "base_uri": "https://localhost:8080/"
    },
    "id": "fzFLKvMF3Ps9",
    "outputId": "0e175226-ad4e-4d24-da1f-aa15cb0ba643"
   },
   "outputs": [],
   "source": [
    "#dataset_total.head(20)"
   ]
  },
  {
   "cell_type": "code",
   "execution_count": 30,
   "metadata": {
    "id": "YQ2FK2jc3Pyv"
   },
   "outputs": [],
   "source": [
    "#inputs = dataset_total[len(dataset_total) - len(dataset_test) - 3:].values"
   ]
  },
  {
   "cell_type": "code",
   "execution_count": 31,
   "metadata": {
    "colab": {
     "base_uri": "https://localhost:8080/"
    },
    "id": "Co8aIuuS3P4k",
    "outputId": "ad1fb692-abb1-4d3a-aa28-95d1eb9a1fc0"
   },
   "outputs": [],
   "source": [
    "#print(inputs)"
   ]
  },
  {
   "cell_type": "code",
   "execution_count": 32,
   "metadata": {
    "id": "c6LOFDdi3P-t"
   },
   "outputs": [],
   "source": [
    "#inputs = inputs.reshape(-1,1)"
   ]
  },
  {
   "cell_type": "code",
   "execution_count": 33,
   "metadata": {
    "colab": {
     "base_uri": "https://localhost:8080/"
    },
    "id": "FAAhWaCl3QB1",
    "outputId": "9af800d5-de04-4777-e326-9147cc42be1b"
   },
   "outputs": [],
   "source": [
    "#print(inputs)"
   ]
  },
  {
   "cell_type": "code",
   "execution_count": 34,
   "metadata": {
    "id": "yAB-fKXS3QFA"
   },
   "outputs": [],
   "source": [
    "#inputs = sc.fit_transform(inputs)"
   ]
  },
  {
   "cell_type": "code",
   "execution_count": 35,
   "metadata": {
    "colab": {
     "base_uri": "https://localhost:8080/"
    },
    "id": "YWeCZ5kn3QIK",
    "outputId": "b52157eb-1caf-4a6d-d524-b0f30e7c0c8b"
   },
   "outputs": [],
   "source": [
    "#print(inputs)"
   ]
  },
  {
   "cell_type": "code",
   "execution_count": 36,
   "metadata": {
    "id": "MJ7Y6x903QNB"
   },
   "outputs": [],
   "source": [
    "#X_test = []\n",
    "#for i in range(3, 9):\n",
    "#    X_test.append(inputs[i-3:i, 0])"
   ]
  },
  {
   "cell_type": "code",
   "execution_count": 37,
   "metadata": {
    "colab": {
     "base_uri": "https://localhost:8080/"
    },
    "id": "CmjYDKDY3QSU",
    "outputId": "51bc8464-6904-4b4b-97a9-4a63a34fd961"
   },
   "outputs": [],
   "source": [
    "#print(X_test)"
   ]
  },
  {
   "cell_type": "code",
   "execution_count": 38,
   "metadata": {
    "id": "Da0rgW6E3QWG"
   },
   "outputs": [],
   "source": [
    "#X_test = np.array(X_test)"
   ]
  },
  {
   "cell_type": "code",
   "execution_count": 39,
   "metadata": {
    "colab": {
     "base_uri": "https://localhost:8080/"
    },
    "id": "lJgJiRCx33AH",
    "outputId": "db23d85d-4131-41dd-d11e-57e3e20cbe7d"
   },
   "outputs": [],
   "source": [
    "#print(X_test)"
   ]
  },
  {
   "cell_type": "code",
   "execution_count": 40,
   "metadata": {
    "id": "YvYWBtSV33Q5"
   },
   "outputs": [],
   "source": [
    "#X_test = np.reshape(X_test, (X_test.shape[0], X_test.shape[1], 1))"
   ]
  },
  {
   "cell_type": "code",
   "execution_count": 41,
   "metadata": {
    "colab": {
     "base_uri": "https://localhost:8080/"
    },
    "id": "nx1QT9P836SL",
    "outputId": "96551a2f-1f35-4aa9-8ddb-0671ab85f6b7"
   },
   "outputs": [],
   "source": [
    "#print(X_test)"
   ]
  },
  {
   "cell_type": "code",
   "execution_count": 42,
   "metadata": {
    "colab": {
     "base_uri": "https://localhost:8080/"
    },
    "id": "HKiFvou236Yx",
    "outputId": "741e8d55-d3d2-468d-d9fb-de8f59a12e35"
   },
   "outputs": [],
   "source": [
    "#predicted_stock_price = model.predict(X_test)"
   ]
  },
  {
   "cell_type": "code",
   "execution_count": 43,
   "metadata": {
    "colab": {
     "base_uri": "https://localhost:8080/"
    },
    "id": "gmQGzsC936cO",
    "outputId": "2262d197-5f42-447e-808d-33bb38fff486"
   },
   "outputs": [],
   "source": [
    "#print(predicted_stock_price)"
   ]
  },
  {
   "cell_type": "code",
   "execution_count": 44,
   "metadata": {
    "id": "EdcjY8VF38eY"
   },
   "outputs": [],
   "source": [
    "#predicted_stock_price = sc.inverse_transform(predicted_stock_price)"
   ]
  },
  {
   "cell_type": "code",
   "execution_count": 45,
   "metadata": {
    "colab": {
     "base_uri": "https://localhost:8080/"
    },
    "id": "xPY26xDV4HA8",
    "outputId": "3e490c5e-2b54-4448-ea01-09f8f2690b3f"
   },
   "outputs": [],
   "source": [
    "#print(predicted_stock_price)"
   ]
  },
  {
   "cell_type": "markdown",
   "metadata": {
    "id": "WXGKvoo6BAyd"
   },
   "source": [
    "Before predicting future stock prices, we have to manipulate the training set; we merge the training set and the test set on the 0 axis, set the time step to 60, use minmaxscaler, and reshape the dataset as done previously. After making predictions, we use inverse_transform to get back the stock prices in normal readable format.\n"
   ]
  },
  {
   "cell_type": "code",
   "execution_count": null,
   "metadata": {
    "id": "pBbdst_BV_PB"
   },
   "outputs": [],
   "source": [
    "\n"
   ]
  },
  {
   "cell_type": "code",
   "execution_count": 46,
   "metadata": {
    "colab": {
     "base_uri": "https://localhost:8080/",
     "height": 472
    },
    "id": "czWvnIANYSqI",
    "outputId": "f8a9cf08-3249-4023-cf17-b1dcab93e4f5"
   },
   "outputs": [],
   "source": [
    "#plt.plot(real_stock_price, color = 'black', label = 'TATA Stock Price')\n",
    "#plt.plot(predicted_stock_price, color = 'green', label = 'Predicted TATA Stock Price')\n",
    "#plt.title('TATA Stock Price Prediction')\n",
    "#plt.xlabel('Time')\n",
    "#plt.ylabel('TATA Stock Price')\n",
    "#plt.legend()\n",
    "#plt.show()"
   ]
  },
  {
   "cell_type": "code",
   "execution_count": 47,
   "metadata": {},
   "outputs": [],
   "source": [
    "n_input = 60\n",
    "n_features = 1"
   ]
  },
  {
   "cell_type": "code",
   "execution_count": 48,
   "metadata": {},
   "outputs": [],
   "source": [
    "first_eval_batch = training_set_scaled[-n_input:]\n"
   ]
  },
  {
   "cell_type": "code",
   "execution_count": 49,
   "metadata": {},
   "outputs": [],
   "source": [
    "print(first_eval_batch)"
   ]
  },
  {
   "cell_type": "code",
   "execution_count": 50,
   "metadata": {},
   "outputs": [],
   "source": [
    "current_batch = first_eval_batch.reshape((1, n_input, n_features))"
   ]
  },
  {
   "cell_type": "code",
   "execution_count": 51,
   "metadata": {},
   "outputs": [],
   "source": [
    "print(current_batch)"
   ]
  },
  {
   "cell_type": "code",
   "execution_count": 52,
   "metadata": {},
   "outputs": [],
   "source": [
    "test_predictions = []\n",
    "\n",
    "\n",
    "for i in range(60):\n",
    "    \n",
    "    # get the prediction value for the first batch\n",
    "    current_pred = model.predict(current_batch)[0]\n",
    "    \n",
    "    # append the prediction into the array\n",
    "    test_predictions.append(current_pred) \n",
    "    \n",
    "    # use the prediction to update the batch and remove the first value\n",
    "    current_batch = np.append(current_batch[:,1:,:],[[current_pred]],axis=1)"
   ]
  },
  {
   "cell_type": "code",
   "execution_count": 53,
   "metadata": {},
   "outputs": [],
   "source": [
    "true_predictions = sc.inverse_transform(test_predictions)\n"
   ]
  },
  {
   "cell_type": "code",
   "execution_count": 54,
   "metadata": {},
   "outputs": [],
   "source": [
    "print(true_predictions)"
   ]
  },
  {
   "cell_type": "code",
   "execution_count": 55,
   "metadata": {},
   "outputs": [],
   "source": [
    "plt.plot(true_predictions, color = 'green', label = 'Predicted Stock Price')\n",
    "plt.title('Stock Price Prediction')\n",
    "plt.xlabel('Time')\n",
    "plt.ylabel('Stock Price')\n",
    "plt.legend()\n",
    "plt.show()"
   ]
  },
  {
   "cell_type": "code",
   "execution_count": null,
   "metadata": {},
   "outputs": [],
   "source": []
  },
  {
   "cell_type": "code",
   "execution_count": null,
   "metadata": {},
   "outputs": [],
   "source": []
  },
  {
   "cell_type": "code",
   "execution_count": null,
   "metadata": {},
   "outputs": [],
   "source": []
  },
  {
   "cell_type": "code",
   "execution_count": null,
   "metadata": {},
   "outputs": [],
   "source": []
  },
  {
   "cell_type": "code",
   "execution_count": null,
   "metadata": {},
   "outputs": [],
   "source": []
  },
  {
   "cell_type": "code",
   "execution_count": null,
   "metadata": {},
   "outputs": [],
   "source": []
  }
 ],
 "metadata": {
  "colab": {
   "provenance": []
  },
  "kernelspec": {
   "display_name": "Python 3 (ipykernel)",
   "language": "python",
   "name": "python3"
  },
  "language_info": {
   "codemirror_mode": {
    "name": "ipython",
    "version": 3
   },
   "file_extension": ".py",
   "mimetype": "text/x-python",
   "name": "python",
   "nbconvert_exporter": "python",
   "pygments_lexer": "ipython3",
   "version": "3.9.7"
  }
 },
 "nbformat": 4,
 "nbformat_minor": 2
}
